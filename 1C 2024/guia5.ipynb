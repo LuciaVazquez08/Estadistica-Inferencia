{
 "cells": [
  {
   "cell_type": "markdown",
   "metadata": {},
   "source": [
    "1. Supongamos que tenemos un mazo con solo tres cartas. Una carta tiene ambos lados negros, otra tiene un lado negro y otro blanco, y la tercera tiene ambos lados blancos. Ahora supongamos que todas las cartas están colocadas en una bolsa y se mezclan. Alguien saca una carta de la bolsa y la coloca sobre una mesa: se muestra un lado negro hacia arriba, pero no sabemos el color del lado opuesto. Calcular la probabilidad de que el otro lado también sea negro.\n"
   ]
  },
  {
   "cell_type": "code",
   "execution_count": null,
   "metadata": {},
   "outputs": [],
   "source": []
  },
  {
   "cell_type": "markdown",
   "metadata": {},
   "source": [
    "2. Continuamos con el ejercicio anterior; nuevamente, se extrae una carta del mazo y un lado negro aparece hacia arriba; nuevamente, se pide calcular la probabilidad de que el otro lado también sea negro. Sin embargo, la situación anterior cambia de las siguientes dos maneras:\n",
    "\n",
    "(a) Sumamos una carta adicional con ambos lados blacos.\n",
    "\n",
    "(b) La tinta negra es pesada, por lo que las cartas con lados negros son más pesadas que las cartas con lados blancos. Como resultado, por cada forma de sacar la carta con dos blancos de la bolsa hay 2 formas de sacar la carta combinada y 3 de sacar la carta con dos negros.\n"
   ]
  },
  {
   "cell_type": "code",
   "execution_count": null,
   "metadata": {},
   "outputs": [],
   "source": []
  },
  {
   "cell_type": "markdown",
   "metadata": {},
   "source": [
    "3. Supongamos que hay dos especies de osos completamente indistinguibles salvo porque difieren en el tamaño de su familia. Sabemos con certeza que la especie A da a luz gemelos el 10% de las veces y en caso contrario da a luz a una sola cría; para la B, esta proporción es de 20%. Resulta que una hembra de panda de especie desconocida acaba de dar a luz a gemelos: ¿Cuál es la probabilidad de que su próximo parto también sea de gemelos?"
   ]
  },
  {
   "cell_type": "code",
   "execution_count": null,
   "metadata": {},
   "outputs": [],
   "source": []
  },
  {
   "cell_type": "markdown",
   "metadata": {},
   "source": [
    "4. Continuando con el ejercicio anterior:\n",
    "\n",
    "(a) ¿Cuál es la probabilidad de que la madre panda sea de la especie A?\n",
    "\n",
    "(b) Supongamos que la panda en cuestión da a luz nuevamente, en este caso a una sola cría. Calcular la probabilidad de que la panda sea de la especie A posterior a este hecho."
   ]
  },
  {
   "cell_type": "code",
   "execution_count": null,
   "metadata": {},
   "outputs": [],
   "source": []
  },
  {
   "cell_type": "markdown",
   "metadata": {},
   "source": [
    "5. Supongamos que si 𝜃 = 1, entonces 𝑌 tiene una distribución normal con media 1 y desviación estándar 𝜎, y si 𝜃 = 2, entonces 𝑌 tiene una distribución normal con media 2 y desviación estándar 𝜎. Además, supongamos que 𝑃 (𝜃 = 1) = 0.5 y 𝑃 (𝜃 = 2) = 0.5.\n",
    "\n",
    "(a) Para 𝜎 = 2, esbozar la densidad de probabilidad marginal para 𝑌.\n",
    "\n",
    "(b) Calcular 𝑃 (𝜃 = 1|𝑌 = 1), suponiendo nuevamente 𝜎 = 2.\n",
    "\n",
    "(c) Describir cómo cambia la densidad posterior de 𝜃 en forma a medida que 𝜎 se incrementa y a medida que se disminuye."
   ]
  },
  {
   "cell_type": "code",
   "execution_count": null,
   "metadata": {},
   "outputs": [],
   "source": []
  },
  {
   "cell_type": "markdown",
   "metadata": {},
   "source": [
    "Queremos comparar dos hipótesis respecto a la distancia de una estrella usando el teorema de Bayes. La hipótesis 1 es que la estrella está a una distancia 𝑑1 = 100 años luz y la hipótesis 2 es que la estrella está a una distancia 𝑑2 = 200 años luz. La distribución de las distancias está modelada como una normal con pdf\n",
    "\n",
    "𝑝(𝑑|𝑑𝑖) =\n",
    "1\n",
    "√\n",
    "2𝜋𝜎2\n",
    "𝑒\n",
    "−\n",
    "(𝑑−𝑑𝑖\n",
    ")\n",
    "2\n",
    "2𝜎2\n",
    ",\n",
    "\n",
    "donde 𝑑 es el dato observado, 𝑑𝑖 es la predicción de la distancia que hace cada modelo y 𝜎 = 40 años luz . Se realiza una medición y se obtiene 𝑑 = 120 años luz. Si no se tiene ninguna preferencia previa por ninguna de las dos hipótesis, ¿cuál de las dos es más probable dado el dato obtenido? Responder la pregunta calculando la razón de probabilidades 𝑂12 =\n",
    "𝑃 (𝑑1 |𝑑) /\n",
    "𝑃 (𝑑2 |𝑑)\n",
    ", la cual es mayor a 1 si la hipótesis 1 es más probable de acuerdo a los datos y menor a 1 caso contrario.\n"
   ]
  },
  {
   "cell_type": "code",
   "execution_count": null,
   "metadata": {},
   "outputs": [],
   "source": []
  },
  {
   "cell_type": "markdown",
   "metadata": {},
   "source": [
    "Tenemos un problema parecido al 2 de la Práctica 0. Hay una enfermedad muy fatal que afecta a 1 persona cada mil millones. Existe un test para detectar la enfermedad tal que si una persona está sana, la probabilidad de que el test de positivo es 1 en un millón. Por otro lado, de cada 1000 personas efectivamente enfermas que se toman el test, 999 dan positivo. Nuestro héroe se dio el test y le dio positivo. Antes de entrar en pánico, calculó la probabilidad de tener la  enfermedad dado ese resultado y se quedó un poco más tranquilo (¿por qué?). Sin embargo, al día siguiente fue a otro centro de testeo, se volvió a hacer el test y también le dio positivo. ¿Cuál es la probabilidad de que tenga la enfermedad teniendo en cuenta este nuevo resultado?"
   ]
  },
  {
   "cell_type": "code",
   "execution_count": null,
   "metadata": {},
   "outputs": [],
   "source": []
  }
 ],
 "metadata": {
  "language_info": {
   "name": "python"
  }
 },
 "nbformat": 4,
 "nbformat_minor": 2
}
