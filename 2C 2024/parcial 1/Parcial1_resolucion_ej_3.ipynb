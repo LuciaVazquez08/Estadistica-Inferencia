{
 "cells": [
  {
   "cell_type": "markdown",
   "metadata": {
    "id": "m2KR3dpJu4HQ"
   },
   "source": [
    "# Universidad Nacional de San Martín - Escuela de Ciencia y Tecnología\n",
    "## Estadística e Inferencia I\n",
    "### Segundo Cuatrimestre de 2024 - Primer Parcial\n",
    "#### Ejercicio 3. Sesgo por omisión de variables relevantes.\n",
    "---\n",
    "\n",
    "**Objetivo**: Este ejercicio tiene como objetivo mostrar (y cualificar) el sesgo en la estimación de coeficientes de un modelo de regresión lineal múltiple estimado por *mínimos cuadrados ordinarios (MCO)* (o cuadrados mínimos)\n",
    "\n",
    "----\n",
    "**Enunciado**  |\n",
    "Sea $Y \\sim \\mathcal{N}(\\mu,  \\sigma^2)$ donde $\\mu=\\beta_1 X_{1}+\\beta_2 X_{2}+\\beta_3 Z$ con $\\sigma^2 =\\beta_1=\\beta_2=\\beta_3 = 1$.\n",
    "\n",
    "(a) Repetir 10.000 repeticiones la siguiente simulación:  \n",
    "1.   Generar $n=30$ observaciones de las siguientes variables:  \n",
    "$X_1\\sim \\mathcal{U}(0,1)$  \n",
    "$X_2\\sim \\mathcal{U}(0,1)$  \n",
    "$u \\sim \\mathcal{N}(0,1)$  \n",
    "$\\varepsilon \\sim \\mathcal{N}(0,\\sigma^2)$  \n",
    "$Z = X_1 + u$  \n",
    "$Y = \\beta_1 X_1 + \\beta_2 X_2 + \\beta_3 Z + \\varepsilon$  \n",
    "Es decir, $X_1$ y $Z$ *no* son independientes, mientras que $X_2$ y $Z$ *sí* lo son.\n",
    "  \n",
    "    \n",
    "2.    En cada iteración, estimar por MCO  \n",
    "    - el modelo completo (con covariables $X_1$, $X_2$ y $Z$)  \n",
    "    - y, aparte, el modelo con $Z$ omitida (solo covariables $X_1$ y $X_2$)  \n",
    "    Guardar los coeficientes estimados de cada modelo.  \n",
    "\n",
    "3. Calcular la correlación entre $Z$ y las variables $X_1$ y $X_2$  \n",
    "\n",
    "(b) A partir de las simulaciones\n",
    "\n",
    "1. Calcular el promedio de las correlaciones entre $Z$ y las variables $X_1$ y $X_2$\n",
    "2. Calcular el sesgo de las estimaciones de $\\hat{\\beta}_1$ y $\\hat{\\beta}_2$ del modelo con $Z$ omitida.\n",
    "3. Graficar las distribuciones $\\hat{\\beta}_1$ y $\\hat{\\beta}_2$, comparando los resultados de ambos modelos.\n",
    "\n",
    "---\n",
    "**Criterios de Evaluación:**\n",
    "\n",
    "* 25% Generación correcta de los datos y definición del modelo de simulación.\n",
    "* 25% Implementación adecuada de la simulación de MonteCarlo (incl. estimaciones por MCO).\n",
    "* 25% Generación de las medidas resúmen de información (incl. histogramas o similar)\n",
    "* 25% Interpretación de los resultados y discusión sobre el sesgo por omisión de variables.\n",
    "\n",
    "\n",
    "----\n",
    "**Comentarios generales**\n",
    "* Varios se limitaron a escribir el código, sin siquiera agregar comentarios para ayudar a que el código sea más legible por un tercero. Al margen de no ser una buena práctica de programación, hace imposible reconstruir qué estaban pensando cuando hicieron el ejercicio.\n",
    "* Unos cuantos hicieron las 10_000 simulaciones para las distintas partes del ejercicio. Ésto no era lo pedido (la idea era que simularan los datos 1 sola vez). Son muchos los ejercicios que pueden pensarse en donde esa estrategia los hubiera conducidos a resultados erróneos."
   ]
  },
  {
   "cell_type": "code",
   "execution_count": 1,
   "metadata": {
    "executionInfo": {
     "elapsed": 897,
     "status": "ok",
     "timestamp": 1727197495419,
     "user": {
      "displayName": "Guido Ianni",
      "userId": "10267548660826061613"
     },
     "user_tz": 180
    },
    "id": "uiyWfEOd1bgK"
   },
   "outputs": [],
   "source": [
    "# Importar librerías necesarias\n",
    "import numpy as np\n",
    "from numpy.linalg import inv\n",
    "from scipy.stats import norm, uniform\n",
    "import matplotlib.pyplot as plt\n"
   ]
  },
  {
   "cell_type": "code",
   "execution_count": 2,
   "metadata": {
    "executionInfo": {
     "elapsed": 2,
     "status": "ok",
     "timestamp": 1727197495420,
     "user": {
      "displayName": "Guido Ianni",
      "userId": "10267548660826061613"
     },
     "user_tz": 180
    },
    "id": "bcds98IJ14zr"
   },
   "outputs": [],
   "source": [
    "# Funciones auxiliares\n",
    "\n",
    "def simulate_sample(n):\n",
    "  x1 = uniform.rvs(size=n)\n",
    "  x2 = uniform.rvs(size=n)\n",
    "  u = norm.rvs(size=n)\n",
    "  z = 2*x1 + u\n",
    "\n",
    "  noise = norm.rvs(size=n)\n",
    "  y = x1 + x2 + z + noise\n",
    "\n",
    "  return x1, x2, z, y\n",
    "\n",
    "def estimate_full_model(x1, x2, z, y):\n",
    "  X = np.column_stack([np.ones(len(x1)), x1, x2, z])\n",
    "  betas = inv(X.T @ X) @ X.T @ y\n",
    "  return betas\n",
    "\n",
    "def estimate_omitted_model(x1, x2, y):\n",
    "  X = np.column_stack([np.ones(len(x1)), x1, x2])\n",
    "  betas = inv(X.T @ X) @ X.T @ y\n",
    "  return betas\n"
   ]
  },
  {
   "cell_type": "code",
   "execution_count": 4,
   "metadata": {
    "executionInfo": {
     "elapsed": 26377,
     "status": "ok",
     "timestamp": 1727197521795,
     "user": {
      "displayName": "Guido Ianni",
      "userId": "10267548660826061613"
     },
     "user_tz": 180
    },
    "id": "zApzjR473KHH"
   },
   "outputs": [],
   "source": [
    "# Configuración de la simulación\n",
    "n_simulations = 10000\n",
    "n_obs = 30\n",
    "\n",
    "\n",
    "# Run simulations\n",
    "correlations = []\n",
    "estimates_betas_full = []\n",
    "estimates_betas_omitted = []\n",
    "\n",
    "\n",
    "# Inciso (a)\n",
    "for _ in range(n_simulations):\n",
    "\n",
    "  # Simular datos (inciso a.1)\n",
    "  x1, x2, z, y = simulate_sample(n_obs)\n",
    "\n",
    "  # Estimate modelo completo y modelo omitido (inciso a.2)\n",
    "  betas_full = estimate_full_model (x1,x2,z,y)\n",
    "  betas_omitted = estimate_omitted_model(x1,x2,y)\n",
    "  estimates_betas_full.append(betas_full)\n",
    "  estimates_betas_omitted.append(betas_omitted)\n",
    "\n",
    "  # Calculate correlations (inciso a.3)\n",
    "  corr_z_x1 = np.corrcoef(z, x1)[0,1]\n",
    "  corr_z_x2 = np.corrcoef(z, x2)[0,1]\n",
    "  correlations.append((corr_z_x1, corr_z_x2))\n",
    "  \n",
    "\n",
    "\n",
    "\n",
    "# Convertir listas a arrays\n",
    "correlations = np.array(correlations)\n",
    "estimates_betas_full = np.array(estimates_betas_full)\n",
    "estimates_betas_omitted = np.array(estimates_betas_omitted)"
   ]
  },
  {
   "cell_type": "markdown",
   "metadata": {
    "id": "yrz9oapY7VIf"
   },
   "source": [
    "## Inciso (b). Análisis de resultados"
   ]
  },
  {
   "cell_type": "code",
   "execution_count": 5,
   "metadata": {
    "colab": {
     "base_uri": "https://localhost:8080/"
    },
    "executionInfo": {
     "elapsed": 11,
     "status": "ok",
     "timestamp": 1727197521795,
     "user": {
      "displayName": "Guido Ianni",
      "userId": "10267548660826061613"
     },
     "user_tz": 180
    },
    "id": "r26N576L55aP",
    "outputId": "41674052-808a-4bd8-a487-8ecfda304da5"
   },
   "outputs": [
    {
     "name": "stdout",
     "output_type": "stream",
     "text": [
      "Correlación promedio entre Z y X1: 0.497\n",
      "Correlación promedio entre Z y X2: 0.0\n"
     ]
    }
   ],
   "source": [
    "# b.1. Calcular el promedio de las correlaciones\n",
    "\n",
    "mean_correlation = correlations.mean(axis=0)\n",
    "\n",
    "print('Correlación promedio entre Z y X1:', mean_correlation[0].round(3))\n",
    "print('Correlación promedio entre Z y X2:', mean_correlation[1].round(3))\n",
    "\n",
    "# Confirmamos que Z no es independiente de X1 pero sí es independiente de X2 "
   ]
  },
  {
   "cell_type": "code",
   "execution_count": 6,
   "metadata": {
    "colab": {
     "base_uri": "https://localhost:8080/"
    },
    "executionInfo": {
     "elapsed": 3,
     "status": "ok",
     "timestamp": 1727197521795,
     "user": {
      "displayName": "Guido Ianni",
      "userId": "10267548660826061613"
     },
     "user_tz": 180
    },
    "id": "BHT4jyeC8Az_",
    "outputId": "06e54303-1aa3-4355-bcac-f0c7dc3a4a5a"
   },
   "outputs": [
    {
     "name": "stdout",
     "output_type": "stream",
     "text": [
      "Sesgo promedio beta_1: 2.003\n",
      "Sesgo promedio beta_2: 0.011\n"
     ]
    }
   ],
   "source": [
    "# Calculamos el sesgo\n",
    "true_beta = 1\n",
    "avg_bias_beta1 = (estimates_betas_omitted[:,1] - true_beta).mean()\n",
    "avg_bias_beta2 = (estimates_betas_omitted[:,2] - true_beta).mean()\n",
    "\n",
    "print('Sesgo promedio beta_1:', avg_bias_beta1.round(3))\n",
    "print('Sesgo promedio beta_2:', avg_bias_beta2.round(3))\n",
    "\n",
    "\n",
    "# Acá el objetivo es aproximar el momento poblacional:\n",
    "#   sesgo = (esperanza de theta_hat) - true_theta\n",
    "# por un momento muestral:\n",
    "#    sesgo_empírico = media ( theta_hat - true_theta )\n",
    "# La ley de los grandes números nos asegura que ambas magnitudes son \"suficientemente  iguales\" \n",
    "#   si el tamaño de la muestra es \"suficientemente grande\"\n",
    "\n",
    "\n",
    "# Podemos ver que \n",
    "# i. El estimador de beta_1 del modelo con Z omitida está sesgado (con sesgo ~ 2)\n",
    "# ii. El estimador de beta_2 del modelo con Z omitida parece ser insesgado"
   ]
  },
  {
   "cell_type": "code",
   "execution_count": 7,
   "metadata": {
    "colab": {
     "base_uri": "https://localhost:8080/",
     "height": 566
    },
    "executionInfo": {
     "elapsed": 1607,
     "status": "ok",
     "timestamp": 1727197523400,
     "user": {
      "displayName": "Guido Ianni",
      "userId": "10267548660826061613"
     },
     "user_tz": 180
    },
    "id": "pnyMJtdH8ptt",
    "outputId": "3f39b458-4235-4f28-86f5-e8ad8a30ce3d"
   },
   "outputs": [
    {
     "data": {
      "image/png": "[encoded data removed]",
      "text/plain": [
       "<Figure size 1800x600 with 2 Axes>"
      ]
     },
     "metadata": {},
     "output_type": "display_data"
    }
   ],
   "source": [
    "# b.3 Graficar lass distribuciones de los estimadores de beta_1 y beta_2, \n",
    "# comparando los resultados de ambos modelos \n",
    "\n",
    "# Esto podemos hacerlo calculando los histogramas de los estimadores de ambos modelos\n",
    "\n",
    "fig, axs = plt.subplots(1,2, figsize=(18,6))\n",
    "\n",
    "# En el primer subplot ponemos los estimadores de beta_1\n",
    "axs[0].hist(estimates_betas_full[:,1], bins=50, alpha=.2, histtype='stepfilled', edgecolor='black',label='Modelo Completo')\n",
    "axs[0].hist(estimates_betas_omitted[:,1], bins=50, alpha=.2, histtype='stepfilled', edgecolor='black', label='Modelo Omitido')\n",
    "axs[0].axvline(x=1, color='red', linestyle='--', label='True beta')\n",
    "axs[0].legend()\n",
    "axs[0].set_title('Distribucion de estimaciones para $\\\\beta_1$')\n",
    "axs[0].set_xlabel('Valor estimado')\n",
    "axs[0].set_ylabel('Frecuencia')\n",
    "\n",
    "# En el segundo, los correspondientes da beta_2\n",
    "axs[1].hist(estimates_betas_full[:,2], bins=50, alpha=.2, histtype='stepfilled', edgecolor='black', label='Modelo Completo')\n",
    "axs[1].hist(estimates_betas_omitted[:,2], bins=50, alpha=.2, histtype='stepfilled', edgecolor='black', label='Modelo Omitido')\n",
    "axs[1].axvline(x=1, color='red', linestyle='--', label='True beta')\n",
    "axs[1].legend()\n",
    "axs[1].set_title('Distribucion de estimaciones para $\\\\beta_2$')\n",
    "axs[1].set_xlabel('Valor estimado')\n",
    "axs[1].set_ylabel('Frecuencia')\n",
    "\n",
    "plt.show()\n",
    "\n",
    "\n",
    "# Ahora podemos observar mejor que \n",
    "# i. los estimadores por MCO del modelo completo son insesgados \n",
    "#    (ambas distribuciones están centradas en \"true beta\")\n",
    "# ii. El estimador de beta_1 del modelo con Z omitida está sesgado \n",
    "#    (su distribución está \"desplazada\" respecto a \"true_beta\")\n",
    "# iii. El estimador de beta_2 es insesgado"
   ]
  }
 ],
 "metadata": {
  "colab": {
   "authorship_tag": "ABX9TyN0wDwZySUrDklbJWzSwgbh",
   "provenance": []
  },
  "kernelspec": {
   "display_name": "Python 3",
   "language": "python",
   "name": "python3"
  },
  "language_info": {
   "codemirror_mode": {
    "name": "ipython",
    "version": 3
   },
   "file_extension": ".py",
   "mimetype": "text/x-python",
   "name": "python",
   "nbconvert_exporter": "python",
   "pygments_lexer": "ipython3",
   "version": "3.11.9"
  }
 },
 "nbformat": 4,
 "nbformat_minor": 4
}
